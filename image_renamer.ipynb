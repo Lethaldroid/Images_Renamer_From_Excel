{
 "cells": [
  {
   "cell_type": "code",
   "execution_count": 1,
   "metadata": {},
   "outputs": [],
   "source": [
    "import os\n",
    "import pandas as pd\n",
    "import math"
   ]
  },
  {
   "cell_type": "code",
   "execution_count": 2,
   "metadata": {},
   "outputs": [
    {
     "data": {
      "text/plain": [
       "array(['Accomodations', 'Admin Coord', 'Coordinator Operations', 'Decor',\n",
       "       'Editorial Board', 'Event Management', 'Event Managers',\n",
       "       'Executive Council', 'External Relations', 'Finance', 'Graphics',\n",
       "       'HR', 'Liaison', 'Logistics', 'Marketing', 'Photography',\n",
       "       'Registrations', 'Security', 'Social Media', 'Socials',\n",
       "       'Sponsorships', 'Student Ambassadors', 'Videography', 'Web & IT'],\n",
       "      dtype=object)"
      ]
     },
     "execution_count": 2,
     "metadata": {},
     "output_type": "execute_result"
    }
   ],
   "source": [
    "excel_file = pd.read_excel(\"sheet.xlsx\")\n",
    "excel_file[\"NAME\"].dropna()\n",
    "excel_file['TEAM'].unique()"
   ]
  },
  {
   "cell_type": "code",
   "execution_count": 3,
   "metadata": {},
   "outputs": [],
   "source": [
    "names_and_teams = {}\n",
    "names_and_indices = {}\n",
    "for (i,val) in enumerate (range(len(excel_file))):\n",
    "    if not (excel_file[\"NAME\"][i] == 'nan' or excel_file[\"TEAM\"][i] == 'nan'):\n",
    "        names_and_teams.setdefault(excel_file[\"TEAM\"][i], []).append((excel_file['NAME'][i].lower()).replace(\" \",\"\"))\n",
    "        # names_and_indices.setdefault(excel_file[\"Full Name\"][i], []).append(i+2)\n",
    "        names_and_indices[f'{(excel_file[\"NAME\"][i].lower()).replace(\" \",\"\") }'] = i+2"
   ]
  },
  {
   "cell_type": "code",
   "execution_count": 20,
   "metadata": {},
   "outputs": [],
   "source": [
    "folder_name = \"Editorial Board\""
   ]
  },
  {
   "cell_type": "code",
   "execution_count": 21,
   "metadata": {},
   "outputs": [
    {
     "name": "stdout",
     "output_type": "stream",
     "text": [
      "['abrishnayyar', 'haiqarehan', 'muhammadhassankhalilqureshi', 'uzmairchishti', 'amnafarooq', 'bariamubasher', 'basambinsohailraja', 'eishaalsajjad', 'fatimamasood', 'fatimazahid', 'lukedesouza', 'muhammadhunzallaattari', 'muhammadmuneebahmad', 'muhammadsohaib', 'muhammadumerali', 'noorulain', 'romaisarashid', 'saifullahshamim', 'tabsheermehdi', 'wardanabil', 'hamzapervez', 'aaizahali']\n",
      "22\n"
     ]
    }
   ],
   "source": [
    "print(names_and_teams[f\"{folder_name}\"])\n",
    "print(len(names_and_teams[f\"{folder_name}\"]))"
   ]
  },
  {
   "cell_type": "code",
   "execution_count": 19,
   "metadata": {},
   "outputs": [],
   "source": [
    "for file_name in os.listdir(folder_name):\n",
    "    person_name = os.path.splitext(file_name)[0]\n",
    "    person_name = person_name.lower()\n",
    "    person_name = person_name.replace(\" \",\"\")\n",
    "    # if '_' in person_name:\n",
    "    person_name = person_name.replace(\"_\",\"\")\n",
    "    # if person_name.split(\" \")[0] == \"muhammad\" or person_name.split(\" \")[0] == \"mohammad\":  \n",
    "    #     person_name = person_name.split(\" \")[1]\n",
    "    # else:\n",
    "    #     person_name = person_name.split(\" \")[0]\n",
    "    \n",
    "    for i in names_and_teams[f\"{folder_name}\"]:\n",
    "        # if person_name in i:\n",
    "        if i in person_name:\n",
    "            # print(i,end=\" \") \n",
    "            # print(names_and_indices[i])\n",
    "            src = os.path.join(folder_name,file_name)\n",
    "            target = str(names_and_indices[i]) + os.path.splitext(file_name)[1]\n",
    "            target = os.path.join(folder_name,target)            \n",
    "            # try:\n",
    "            #     os.rename(f'{src}',f'{target}')\n",
    "            # except:\n",
    "            #     pass\n",
    "            print(person_name + \" \" + str(names_and_indices[i]))\n",
    "            \n",
    "            \n",
    "            \n",
    "    "
   ]
  }
 ],
 "metadata": {
  "kernelspec": {
   "display_name": "Python 3",
   "language": "python",
   "name": "python3"
  },
  "language_info": {
   "codemirror_mode": {
    "name": "ipython",
    "version": 3
   },
   "file_extension": ".py",
   "mimetype": "text/x-python",
   "name": "python",
   "nbconvert_exporter": "python",
   "pygments_lexer": "ipython3",
   "version": "3.10.6"
  },
  "orig_nbformat": 4,
  "vscode": {
   "interpreter": {
    "hash": "26de051ba29f2982a8de78e945f0abaf191376122a1563185a90213a26c5da77"
   }
  }
 },
 "nbformat": 4,
 "nbformat_minor": 2
}
